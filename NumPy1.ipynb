{
 "cells": [
  {
   "cell_type": "code",
   "execution_count": 5,
   "metadata": {},
   "outputs": [
    {
     "name": "stdout",
     "output_type": "stream",
     "text": [
      "[[1 2 3]\n",
      " [4 5 6]\n",
      " [7 8 9]]\n"
     ]
    }
   ],
   "source": [
    "#import ast,sys\n",
    "#input_str = sys.stdin.read()\n",
    "#input_list = ast.literal_eval(input_str)\n",
    "list_1 = [1,2,3]\n",
    "list_2 = [4,5,6]\n",
    "list_3 = [7,8,9]\n",
    "\n",
    "import numpy as np\n",
    "array_1 = np.array([list_1, list_2, list_3])\n",
    "\n",
    "print(array_1)"
   ]
  },
  {
   "cell_type": "code",
   "execution_count": 10,
   "metadata": {},
   "outputs": [
    {
     "name": "stdout",
     "output_type": "stream",
     "text": [
      "[14, 24, 36, 30]\n",
      "<class 'list'>\n"
     ]
    }
   ],
   "source": [
    "import numpy as np\n",
    "\n",
    "list_1 = [2,3,4,5]\n",
    "list_2 = [7,8,9,6]\n",
    "ar1 = np.array(list_1)\n",
    "ar2 = np.array(list_2)\n",
    "\n",
    "ar3  =ar1*ar2\n",
    "list_3 = list(ar3)\n",
    "\n",
    "print(list_3)\n",
    "print(type(list_3))\n"
   ]
  },
  {
   "cell_type": "code",
   "execution_count": 28,
   "metadata": {},
   "outputs": [
    {
     "name": "stdout",
     "output_type": "stream",
     "text": [
      "1\n",
      "4\n",
      "(4,)\n",
      "int32\n"
     ]
    }
   ],
   "source": [
    "import numpy as np\n",
    "\n",
    "list_1 = [10,11,12,13]\n",
    "list_2 = [15,12,13,14] \n",
    "\n",
    "ar1 = np.array(list_1)\n",
    "ar2 = np.array(list_2)\n",
    "ar3 = ar1*ar2\n",
    "\n",
    "\n",
    "print(ar3.ndim)\n",
    "print(ar3.itemsize)\n",
    "print(ar3.shape)\n",
    "print(ar3.dtype)\n"
   ]
  },
  {
   "cell_type": "code",
   "execution_count": 36,
   "metadata": {},
   "outputs": [
    {
     "name": "stdout",
     "output_type": "stream",
     "text": [
      "[15 12 13 14 10 11 12 13]\n",
      "[[15 12 13 14 10 11 12 13]\n",
      " [ 1  2  3  4  5  6  7  8]]\n"
     ]
    }
   ],
   "source": [
    "ar_hstack = np.hstack((ar2, ar1))\n",
    "print(ar_hstack)\n",
    "\n",
    "ar_vstack = np.vstack((ar_hstack, [1,2,3,4,5,6,7,8]))\n",
    "print(ar_vstack)\n"
   ]
  },
  {
   "cell_type": "code",
   "execution_count": 40,
   "metadata": {},
   "outputs": [
    {
     "name": "stdout",
     "output_type": "stream",
     "text": [
      "[[1, 2, 3, 4], [4, 7, 5, 6], [9, 0, 7, 8], [6, 7, 8, 5]]\n"
     ]
    },
    {
     "data": {
      "text/plain": [
       "array([[0.2, 0.4, 0.6, 0.8],\n",
       "       [0.8, 1.4, 1. , 1.2],\n",
       "       [1.8, 0. , 1.4, 1.6],\n",
       "       [1.2, 1.4, 1.6, 1. ]])"
      ]
     },
     "execution_count": 40,
     "metadata": {},
     "output_type": "execute_result"
    }
   ],
   "source": [
    "ar = [[1,2,3,4],[4,7,5,6],[9,0,7,8],[6,7,8,5]]\n",
    "print(ar)\n",
    "VFunc = np.vectorize(lambda x : x/5)\n",
    "VFunc(ar)\n",
    "\n"
   ]
  },
  {
   "cell_type": "code",
   "execution_count": 46,
   "metadata": {},
   "outputs": [
    {
     "name": "stdout",
     "output_type": "stream",
     "text": [
      "(array([20.65349084+0.j        ,  4.10810319+0.j        ,\n",
      "       -2.38079701+0.62433339j, -2.38079701-0.62433339j]), array([[ 0.25852583+0.j        ,  0.04794751+0.j        ,\n",
      "         0.66164849+0.j        ,  0.66164849-0.j        ],\n",
      "       [ 0.53554697+0.j        ,  0.70876597+0.j        ,\n",
      "         0.13348103-0.05654153j,  0.13348103+0.05654153j],\n",
      "       [ 0.52644157+0.j        , -0.67741786+0.j        ,\n",
      "        -0.21531945-0.35103431j, -0.21531945+0.35103431j],\n",
      "       [ 0.60762909+0.j        ,  0.19093686+0.j        ,\n",
      "        -0.46447574+0.39481881j, -0.46447574-0.39481881j]])) \n",
      "\n",
      "513.9999999999998 \n",
      "\n",
      "[[-0.42217899  0.16731518  0.11478599 -0.04669261]\n",
      " [-0.1536965   0.19455253 -0.06420233 -0.0077821 ]\n",
      " [ 0.34046693 -0.39299611 -0.06031128  0.29571984]\n",
      " [ 0.1770428   0.15564202  0.04863813 -0.20622568]]\n"
     ]
    }
   ],
   "source": [
    "print(np.linalg.eig(ar),\"\\n\")\n",
    "print(np.linalg.det(ar),\"\\n\")\n",
    "print(np.linalg.inv(ar))\n",
    "\n"
   ]
  },
  {
   "cell_type": "code",
   "execution_count": null,
   "metadata": {},
   "outputs": [],
   "source": []
  }
 ],
 "metadata": {
  "kernelspec": {
   "display_name": "Python 3",
   "language": "python",
   "name": "python3"
  },
  "language_info": {
   "codemirror_mode": {
    "name": "ipython",
    "version": 3
   },
   "file_extension": ".py",
   "mimetype": "text/x-python",
   "name": "python",
   "nbconvert_exporter": "python",
   "pygments_lexer": "ipython3",
   "version": "3.7.6"
  }
 },
 "nbformat": 4,
 "nbformat_minor": 4
}
