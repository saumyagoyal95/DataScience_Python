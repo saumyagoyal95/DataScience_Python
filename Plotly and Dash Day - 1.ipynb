{
 "cells": [
  {
   "cell_type": "code",
   "execution_count": 1,
   "metadata": {},
   "outputs": [],
   "source": [
    "import dash\n",
    "from dash import dcc\n",
    "from dash import html"
   ]
  },
  {
   "cell_type": "code",
   "execution_count": 3,
   "metadata": {},
   "outputs": [],
   "source": [
    "# creating dash object\n",
    "app = dash.Dash()"
   ]
  },
  {
   "cell_type": "code",
   "execution_count": 34,
   "metadata": {},
   "outputs": [],
   "source": [
    "# adding visualization layout\n",
    "app.layout = html.Div([\n",
    "    \n",
    "    html.H1(\"Hello Dash!\",\n",
    "           style = {\n",
    "               'textAlign': 'center'\n",
    "           }),\n",
    "    \n",
    "    html.Div(children = \"My first div in Dash\",\n",
    "            style = {\n",
    "                'textAlign': 'center',\n",
    "                'color': 'blue'\n",
    "            }),\n",
    "    \n",
    "    dcc.Graph(\n",
    "        id = \"Sample Graph\",\n",
    "        figure = {\n",
    "            'data':[{'x': [5, 6, 7], 'y':[12,16,18], 'type':'bar', 'name':'Blue'},\n",
    "                    {'x': [5, 6, 7], 'y':[18,26,28], 'type':'bar', 'name':'Yellow'}],\n",
    "            'layout': {\n",
    "                'title':\"Simple bar chart\",\n",
    "                'paper_bgcolor': 'silver',\n",
    "                'plot_bgcolor': 'silver'\n",
    "            }\n",
    "        }\n",
    "    )\n",
    "])"
   ]
  },
  {
   "cell_type": "code",
   "execution_count": 35,
   "metadata": {},
   "outputs": [
    {
     "name": "stdout",
     "output_type": "stream",
     "text": [
      "Dash is running on http://127.0.0.1:8050/\n",
      "\n",
      " * Serving Flask app '__main__' (lazy loading)\n",
      " * Environment: production\n",
      "   WARNING: This is a development server. Do not use it in a production deployment.\n",
      "   Use a production WSGI server instead.\n",
      " * Debug mode: off\n"
     ]
    }
   ],
   "source": [
    "# because dash is based on flask we used the similar thing\n",
    "if __name__ == '__main__':\n",
    "    app.run_server()"
   ]
  },
  {
   "cell_type": "code",
   "execution_count": null,
   "metadata": {},
   "outputs": [],
   "source": []
  }
 ],
 "metadata": {
  "kernelspec": {
   "display_name": "Python 3",
   "language": "python",
   "name": "python3"
  },
  "language_info": {
   "codemirror_mode": {
    "name": "ipython",
    "version": 3
   },
   "file_extension": ".py",
   "mimetype": "text/x-python",
   "name": "python",
   "nbconvert_exporter": "python",
   "pygments_lexer": "ipython3",
   "version": "3.8.5"
  }
 },
 "nbformat": 4,
 "nbformat_minor": 4
}
